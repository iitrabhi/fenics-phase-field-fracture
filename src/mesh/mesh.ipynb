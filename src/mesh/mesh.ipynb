{
 "cells": [
  {
   "cell_type": "markdown",
   "id": "ce9bcfac",
   "metadata": {},
   "source": [
    "# Mode-1"
   ]
  },
  {
   "cell_type": "code",
   "execution_count": null,
   "id": "0ba3f963",
   "metadata": {},
   "outputs": [],
   "source": [
    "import gmsh\n",
    "import math\n",
    "import sys\n",
    "\n",
    "gmsh.initialize()\n",
    "gmsh.model.add(\"mode1_crack\")\n",
    "\n",
    "# ----------------------------\n",
    "# Parameters\n",
    "# ----------------------------\n",
    "L = 1.0       # Length of square\n",
    "H = 1.0       # Height of square\n",
    "cmod = 0.001   # Crack mouth opening displacement (total)\n",
    "lc = 0.4     # Characteristic mesh length\n",
    "\n",
    "# Half opening on top and bottom faces at x = 0\n",
    "delta = cmod / 2.0\n",
    "\n",
    "# ----------------------------\n",
    "# Geometry definition\n",
    "# ----------------------------\n",
    "\n",
    "# Points on bottom edge\n",
    "p1 = gmsh.model.geo.addPoint(0, 0, 0, lc)\n",
    "p2 = gmsh.model.geo.addPoint(0.5, 0, 0, lc)\n",
    "p3 = gmsh.model.geo.addPoint(1, 0, 0, lc)\n",
    "\n",
    "# Crack points (at mid-height)\n",
    "p4 = gmsh.model.geo.addPoint(0.0, 0.5 - delta, 0, lc)\n",
    "p5 = gmsh.model.geo.addPoint(0.0, 0.5 + delta, 0, lc)\n",
    "p6 = gmsh.model.geo.addPoint(0.5, 0.5, 0, lc)\n",
    "p7 = gmsh.model.geo.addPoint(1.0, 0.5, 0, lc)\n",
    "\n",
    "# Points on top edge\n",
    "p8 = gmsh.model.geo.addPoint(0, H, 0, lc)\n",
    "p9 = gmsh.model.geo.addPoint(0.5, H, 0, lc)\n",
    "p10 = gmsh.model.geo.addPoint(1, H, 0, lc)\n",
    "\n",
    "# ----------------------------\n",
    "# Lines and crack segments\n",
    "# ----------------------------\n",
    "\n",
    "# Bottom half (below crack)\n",
    "l1 = gmsh.model.geo.addLine(p1, p2)\n",
    "l2 = gmsh.model.geo.addLine(p2, p3)\n",
    "l3 = gmsh.model.geo.addLine(p3, p7)\n",
    "l4 = gmsh.model.geo.addLine(p7, p6) \n",
    "l5 = gmsh.model.geo.addLine(p6, p4)\n",
    "l6 = gmsh.model.geo.addLine(p4, p1)\n",
    "\n",
    "\n",
    "# Top half (above crack)\n",
    "l7 = gmsh.model.geo.addLine(p6, p5)\n",
    "l9 = gmsh.model.geo.addLine(p5, p8)\n",
    "l10 = gmsh.model.geo.addLine(p8, p9)\n",
    "l11 = gmsh.model.geo.addLine(p9, p10)\n",
    "l12 = gmsh.model.geo.addLine(p10, p7)\n",
    "\n",
    "\n",
    "# ----------------------------\n",
    "# Surfaces\n",
    "# ----------------------------\n",
    "loop1 = gmsh.model.geo.addCurveLoop([l1, l2, l3, l4, l5, l6])\n",
    "surf1 = gmsh.model.geo.addPlaneSurface([loop1])\n",
    "\n",
    "loop2 = gmsh.model.geo.addCurveLoop([l4, l7, l9, l10, l11, l12])\n",
    "surf2 = gmsh.model.geo.addPlaneSurface([loop2])\n",
    "\n",
    "gmsh.model.geo.synchronize()\n",
    "\n",
    "# ----------------------------\n",
    "# Physical groups\n",
    "# ----------------------------\n",
    "gmsh.model.addPhysicalGroup(2, [surf1, surf2], name=\"Domain\")\n",
    "gmsh.model.addPhysicalGroup(1, [l1, l2, l3, l5, l6, l7, l9, l10, l11, l12], name=\"ExternalBoundary\")\n",
    "\n",
    "# ----------------------------\n",
    "# Mesh generation\n",
    "# ----------------------------\n",
    "gmsh.model.mesh.generate(2)\n",
    "\n",
    "# Save to file\n",
    "gmsh.write(\"mode1_crack.msh\")\n",
    "gmsh.finalize()\n"
   ]
  },
  {
   "cell_type": "code",
   "execution_count": null,
   "id": "cf170d41",
   "metadata": {},
   "outputs": [],
   "source": [
    "# ------------------------------------------------------------------\n",
    "# Convert .msh → .xdmf for FEniCS\n",
    "# ------------------------------------------------------------------\n",
    "import meshio\n",
    "for name in [\"mode1_crack\"]:\n",
    "    msh = meshio.read(f\"{name}.msh\")\n",
    "    # FEniCS expects only cells and points\n",
    "    tri_cells = {\"triangle\": msh.cells[\"triangle\"]}\n",
    "    mesh = meshio.Mesh(points=msh.points[:, :2], cells=tri_cells)\n",
    "    meshio.write(f\"{name}.xdmf\", mesh)\n",
    "    print(f\"✅ Saved {name}.xdmf\")\n",
    "\n"
   ]
  },
  {
   "cell_type": "code",
   "execution_count": null,
   "id": "8e0d47c6",
   "metadata": {},
   "outputs": [],
   "source": [
    "meshio.write(\"mode1_line.xdmf\", meshio.Mesh(\n",
    "    points=msh.points[:, :2],\n",
    "    cells={\"line\": msh.cells[\"line\"]},\n",
    "    cell_data={\"line\": {\"marker\": msh.cell_data[\"line\"]['gmsh:physical']}}\n",
    "))"
   ]
  },
  {
   "cell_type": "code",
   "execution_count": null,
   "id": "aaa1e9cb",
   "metadata": {},
   "outputs": [],
   "source": [
    "msh.field_data"
   ]
  },
  {
   "cell_type": "code",
   "execution_count": null,
   "id": "4aeb70d7",
   "metadata": {},
   "outputs": [],
   "source": []
  }
 ],
 "metadata": {
  "kernelspec": {
   "display_name": "fenicsproject",
   "language": "python",
   "name": "python3"
  },
  "language_info": {
   "codemirror_mode": {
    "name": "ipython",
    "version": 3
   },
   "file_extension": ".py",
   "mimetype": "text/x-python",
   "name": "python",
   "nbconvert_exporter": "python",
   "pygments_lexer": "ipython3",
   "version": "3.10.17"
  }
 },
 "nbformat": 4,
 "nbformat_minor": 5
}
